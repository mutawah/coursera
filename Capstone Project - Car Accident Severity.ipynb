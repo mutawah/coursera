{
    "cells": [
        {
            "cell_type": "markdown",
            "metadata": {
                "collapsed": true
            },
            "source": "# Capstone Project - Car Accident Severity"
        },
        {
            "cell_type": "markdown",
            "metadata": {},
            "source": "## Introduction"
        },
        {
            "cell_type": "markdown",
            "metadata": {},
            "source": "In this part will be highlighting this Capstone Project to Car accident severity leveraging Cross-industry standard process for data mining phases. It is an initial phase to understand the project's objective from the business or application perspective. Then, you need to translate this knowledge into a machine learning problem with a preliminary plan to achieve the objectives."
        },
        {
            "cell_type": "markdown",
            "metadata": {},
            "source": "Car accidents is one of the leafing deaths causes around the world and according to the World Health Organization, road traffic injuries caused an estimated 1.35 million deaths worldwide in the year 2016. Also, car accidents have number of consequences, ranging from minor property damages to the more severe loss of human lives. "
        },
        {
            "cell_type": "markdown",
            "metadata": {},
            "source": "There are many studies on the factors causing traffic accidents. Also, it is very important is to determine what affect the level of severity of accidents. Additionally, it is also  imperative to understand what causes severe accidents so that targets, priorities strategies can be developed to reduce high severity accident occurrences first, as an efficient use of limited resources."
        },
        {
            "cell_type": "markdown",
            "metadata": {},
            "source": "Having such insights, governments would be interested in accurate predictions of the severity of an accident and reduce high severity accidents by eliminating different factors which could be mitigatable and un-mitigatable."
        },
        {
            "cell_type": "code",
            "execution_count": null,
            "metadata": {},
            "outputs": [],
            "source": ""
        }
    ],
    "metadata": {
        "kernelspec": {
            "display_name": "Python 3.6",
            "language": "python",
            "name": "python3"
        },
        "language_info": {
            "codemirror_mode": {
                "name": "ipython",
                "version": 3
            },
            "file_extension": ".py",
            "mimetype": "text/x-python",
            "name": "python",
            "nbconvert_exporter": "python",
            "pygments_lexer": "ipython3",
            "version": "3.6.9"
        }
    },
    "nbformat": 4,
    "nbformat_minor": 1
}